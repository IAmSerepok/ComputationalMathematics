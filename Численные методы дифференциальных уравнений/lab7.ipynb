{
 "cells": [
  {
   "cell_type": "code",
   "execution_count": 17,
   "metadata": {},
   "outputs": [],
   "source": [
    "import numpy as np\n",
    "import matplotlib.pyplot as plt\n",
    "\n",
    "from scipy.integrate import simpson as integrator"
   ]
  },
  {
   "cell_type": "markdown",
   "metadata": {},
   "source": [
    "$$\n",
    "u'' - 2u' - u=-2xe^{x}\n",
    "$$\n",
    "$$\n",
    "u(0)=0 \n",
    "$$\n",
    "$$\n",
    "u(1)=e \n",
    "$$\n",
    "$$\n",
    "u(x) = xe^x\n",
    "$$"
   ]
  },
  {
   "cell_type": "code",
   "execution_count": 18,
   "metadata": {},
   "outputs": [],
   "source": [
    "a0, b0 = 0, 1\n",
    "gamma1, gamma2 = 0, np.e\n",
    "N = 1000"
   ]
  },
  {
   "cell_type": "code",
   "execution_count": 19,
   "metadata": {},
   "outputs": [],
   "source": [
    "h = (b0 - a0) / N"
   ]
  },
  {
   "cell_type": "code",
   "execution_count": 20,
   "metadata": {},
   "outputs": [],
   "source": [
    "X = np.linspace(a0, b0, N + 1)"
   ]
  },
  {
   "cell_type": "code",
   "execution_count": 21,
   "metadata": {},
   "outputs": [],
   "source": [
    "def p(x):\n",
    "    return -2\n",
    "\n",
    "def q(x):\n",
    "    return -1\n",
    "\n",
    "def f0(x):\n",
    "    return -2 * x * np.exp(x)"
   ]
  },
  {
   "cell_type": "code",
   "execution_count": 22,
   "metadata": {},
   "outputs": [],
   "source": [
    "def v(x):\n",
    "    return gamma1 + (gamma2 - gamma1) * (x - a0) / (b0 - a0)"
   ]
  },
  {
   "cell_type": "code",
   "execution_count": 23,
   "metadata": {},
   "outputs": [],
   "source": [
    "def f(x):\n",
    "    return f0(x) - p(x) * (gamma2 - gamma1) / (b0 - a0) - q(x) * v(x)"
   ]
  },
  {
   "cell_type": "code",
   "execution_count": 24,
   "metadata": {},
   "outputs": [],
   "source": [
    "N_int = 50"
   ]
  },
  {
   "cell_type": "code",
   "execution_count": 25,
   "metadata": {},
   "outputs": [],
   "source": [
    "def A(i, j):\n",
    "    x1 = np.linspace(X[i - 1], X[i], N_int)\n",
    "    x2 = np.linspace(X[i], X[i + 1], N_int)\n",
    "\n",
    "    if i == j:\n",
    "        return (\n",
    "            -2 / h + (\n",
    "                integrator(\n",
    "                    p(x1) * (x1 - X[i - 1]) + q(x1) * (x1 - X[i - 1]) ** 2, x=x1\n",
    "                ) + integrator(\n",
    "                    p(x2) * (x2 - X[i + 1]) + q(x2) * (x2 - X[i + 1]) ** 2, x=x2\n",
    "                )\n",
    "            ) / (h ** 2)\n",
    "        )\n",
    "    elif (j == i + 1):\n",
    "        return (\n",
    "            1 / h - (\n",
    "                integrator(\n",
    "                    p(x2) * (x2 - X[i + 1]) + q(x2) * (x2 - X[i]) * (x2 - X[i + 1]), x=x2\n",
    "                )\n",
    "            ) / (h ** 2)\n",
    "        )\n",
    "    elif (j == i - 1):\n",
    "        return (\n",
    "            1 / h - (\n",
    "                integrator(\n",
    "                    p(x1) * (x1 - X[i - 1]) + q(x1) * (x1 - X[i - 1]) * (x1 - X[i]), x=x1\n",
    "                )\n",
    "            ) / (h ** 2)\n",
    "        )\n",
    "\n",
    "    else:\n",
    "        return 0"
   ]
  },
  {
   "cell_type": "code",
   "execution_count": 26,
   "metadata": {},
   "outputs": [],
   "source": [
    "def d(i):\n",
    "    x1 = np.linspace(X[i - 1], X[i], N_int)\n",
    "    x2 = np.linspace(X[i], X[i + 1], N_int)\n",
    "\n",
    "    return (integrator(\n",
    "        f(x1) * (x1 - X[i - 1]), x=x1\n",
    "    ) - integrator(\n",
    "        f(x2) * (x2 - X[i + 1]), x=x2\n",
    "    )) / h"
   ]
  },
  {
   "cell_type": "code",
   "execution_count": 27,
   "metadata": {},
   "outputs": [],
   "source": [
    "arr = np.zeros((N - 1, N - 1))\n",
    "b = np.zeros(N - 1)"
   ]
  },
  {
   "cell_type": "code",
   "execution_count": 28,
   "metadata": {},
   "outputs": [],
   "source": [
    "for i in range(N - 1):\n",
    "    for j in range(N - 1):\n",
    "        arr[i, j] = A(i, j)\n",
    "\n",
    "    b[i] = d(i)"
   ]
  },
  {
   "cell_type": "code",
   "execution_count": 29,
   "metadata": {},
   "outputs": [],
   "source": [
    "C = np.linalg.solve(arr, b)"
   ]
  },
  {
   "cell_type": "markdown",
   "metadata": {},
   "source": [
    "$$\n",
    "\\phi_i = \\begin{cases}\n",
    "{\\dfrac{x-x_{i-1}}{h} \\quad x\\in [x_{i-1}, x_i]} \\\\\n",
    "{-\\dfrac{x-x_{i+1}}{h} \\quad x\\in [x_{i}, x_{i+1}]} \\\\\n",
    "{0 \\quad x\\not\\in [x_{i-1}, x_{i+1}]}\n",
    "\\end{cases}\n",
    "$$"
   ]
  },
  {
   "cell_type": "code",
   "execution_count": 30,
   "metadata": {},
   "outputs": [],
   "source": [
    "def phi(k, x):\n",
    "    if X[k - 1] <= x <= X[k]:\n",
    "        return (x - X[k - 1]) / h\n",
    "    elif X[k] < x <= X[k + 1]:\n",
    "        return - (x - X[k + 1]) / h\n",
    "    \n",
    "    return 0"
   ]
  },
  {
   "cell_type": "code",
   "execution_count": 31,
   "metadata": {},
   "outputs": [],
   "source": [
    "def u_approx(x):\n",
    "    res = v(x)\n",
    "\n",
    "    for k in range(N - 1):\n",
    "        res += C[k - 1] * phi(k, x)\n",
    "\n",
    "    return res\n",
    "\n",
    "def exact_solution(x):\n",
    "    return x * np.exp(x)"
   ]
  },
  {
   "cell_type": "code",
   "execution_count": 32,
   "metadata": {},
   "outputs": [
    {
     "data": {
      "image/png": "[encoded data removed]",
      "text/plain": [
       "<Figure size 1000x600 with 1 Axes>"
      ]
     },
     "metadata": {},
     "output_type": "display_data"
    }
   ],
   "source": [
    "x = np.linspace(0, 1, 100)\n",
    "\n",
    "plt.figure(figsize=(10, 6))\n",
    "\n",
    "plt.plot(x, [u_approx(_) for _ in x], label=f\"Приближённое решение (N={N})\")\n",
    "plt.plot(x, exact_solution(x), label=\"Точное решение\")\n",
    "\n",
    "plt.legend()\n",
    "\n",
    "plt.show()"
   ]
  }
 ],
 "metadata": {
  "kernelspec": {
   "display_name": "Python 3",
   "language": "python",
   "name": "python3"
  },
  "language_info": {
   "codemirror_mode": {
    "name": "ipython",
    "version": 3
   },
   "file_extension": ".py",
   "mimetype": "text/x-python",
   "name": "python",
   "nbconvert_exporter": "python",
   "pygments_lexer": "ipython3",
   "version": "3.12.7"
  }
 },
 "nbformat": 4,
 "nbformat_minor": 2
}
