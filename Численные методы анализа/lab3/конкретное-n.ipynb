{
 "cells": [
  {
   "cell_type": "code",
   "execution_count": 1,
   "metadata": {},
   "outputs": [],
   "source": [
    "import numpy as np\n",
    "import pandas as pd\n",
    "from scipy.special import factorial"
   ]
  },
  {
   "cell_type": "code",
   "execution_count": 2,
   "metadata": {},
   "outputs": [],
   "source": [
    "def принт(*значения: object,\n",
    "    раз: str | None = \" \",\n",
    "    кон: str | None = \"\\n\"):\n",
    "\n",
    "    print(*значения, раз, кон)"
   ]
  },
  {
   "cell_type": "code",
   "execution_count": 3,
   "metadata": {},
   "outputs": [],
   "source": [
    "# Исходная функция\n",
    "def f(x):\n",
    "    return (x - 1) ** 2 - np.exp(x) / 2"
   ]
  },
  {
   "cell_type": "code",
   "execution_count": 4,
   "metadata": {},
   "outputs": [],
   "source": [
    "# Производная функции порядка n\n",
    "def df(x, n):\n",
    "    return - np.exp(x) / 2\n",
    "\n",
    "# Первая производная функции\n",
    "def df1(x):\n",
    "    return 2 * (x - 1) - (np.exp(x) / 2)"
   ]
  },
  {
   "cell_type": "code",
   "execution_count": 5,
   "metadata": {},
   "outputs": [],
   "source": [
    "def omega(x, points, n):\n",
    "    rez = 1\n",
    "    prod = 1\n",
    "    \n",
    "    for _1 in range(n - 1):\n",
    "        prod = 1\n",
    "        for _2 in range(n - 1):\n",
    "            if _1 != _2:\n",
    "                prod *= (x - points['x'][_1])\n",
    "        rez += prod\n",
    "\n",
    "    return rez"
   ]
  },
  {
   "cell_type": "code",
   "execution_count": 6,
   "metadata": {},
   "outputs": [],
   "source": [
    "def R(x, n, points):\n",
    "    return (df(x, n + 1)) * (omega(x, points, n + 1)) / factorial(n + 1)"
   ]
  },
  {
   "cell_type": "code",
   "execution_count": 7,
   "metadata": {},
   "outputs": [],
   "source": [
    "# Функция, интерполирующая производную\n",
    "def df_interp(points, h):\n",
    "    return ((- 2 * points['y'][0] + 9 * points['y'][1] \n",
    "             - 18 * points['y'][2] + 11 * points['y'][3]) \n",
    "            / (6 * h))"
   ]
  },
  {
   "cell_type": "code",
   "execution_count": 8,
   "metadata": {},
   "outputs": [],
   "source": [
    "n = 3"
   ]
  },
  {
   "cell_type": "code",
   "execution_count": 9,
   "metadata": {},
   "outputs": [],
   "source": [
    "# Границы отрезка\n",
    "a, b = [0.1, 0.6]"
   ]
  },
  {
   "cell_type": "code",
   "execution_count": 10,
   "metadata": {},
   "outputs": [
    {
     "data": {
      "text/html": [
       "<div>\n",
       "<style scoped>\n",
       "    .dataframe tbody tr th:only-of-type {\n",
       "        vertical-align: middle;\n",
       "    }\n",
       "\n",
       "    .dataframe tbody tr th {\n",
       "        vertical-align: top;\n",
       "    }\n",
       "\n",
       "    .dataframe thead th {\n",
       "        text-align: right;\n",
       "    }\n",
       "</style>\n",
       "<table border=\"1\" class=\"dataframe\">\n",
       "  <thead>\n",
       "    <tr style=\"text-align: right;\">\n",
       "      <th></th>\n",
       "      <th>x</th>\n",
       "      <th>y</th>\n",
       "    </tr>\n",
       "  </thead>\n",
       "  <tbody>\n",
       "    <tr>\n",
       "      <th>0</th>\n",
       "      <td>0.100000</td>\n",
       "      <td>0.257415</td>\n",
       "    </tr>\n",
       "    <tr>\n",
       "      <th>1</th>\n",
       "      <td>0.266667</td>\n",
       "      <td>-0.115025</td>\n",
       "    </tr>\n",
       "    <tr>\n",
       "      <th>2</th>\n",
       "      <td>0.433333</td>\n",
       "      <td>-0.450084</td>\n",
       "    </tr>\n",
       "    <tr>\n",
       "      <th>3</th>\n",
       "      <td>0.600000</td>\n",
       "      <td>-0.751059</td>\n",
       "    </tr>\n",
       "  </tbody>\n",
       "</table>\n",
       "</div>"
      ],
      "text/plain": [
       "          x         y\n",
       "0  0.100000  0.257415\n",
       "1  0.266667 -0.115025\n",
       "2  0.433333 -0.450084\n",
       "3  0.600000 -0.751059"
      ]
     },
     "execution_count": 10,
     "metadata": {},
     "output_type": "execute_result"
    }
   ],
   "source": [
    "# Создание df с узловыми точками\n",
    "tmp = np.linspace(a, b, n + 1)\n",
    "points = pd.DataFrame({'x': tmp, 'y': f(tmp)})\n",
    "points"
   ]
  },
  {
   "cell_type": "code",
   "execution_count": 11,
   "metadata": {},
   "outputs": [
    {
     "name": "stdout",
     "output_type": "stream",
     "text": [
      "Шаг равен:  0.16666666666666666\n"
     ]
    }
   ],
   "source": [
    "шаг = (b - a) / n\n",
    "print('Шаг равен: ', шаг)"
   ]
  },
  {
   "cell_type": "code",
   "execution_count": 12,
   "metadata": {},
   "outputs": [
    {
     "name": "stdout",
     "output_type": "stream",
     "text": [
      "Интерполируемое значение =  -1.7101933723728617   \n",
      "\n",
      "Точное значение =  -1.7110594001952544   \n",
      "\n",
      "Разница =  0.0008660278223926454   \n",
      "\n"
     ]
    }
   ],
   "source": [
    "принт('Интерполируемое значение = ', f_interp := df_interp(points, шаг))\n",
    "принт('Точное значение = ', f := df1(points['x'][3]))\n",
    "принт('Разница = ', div := abs(df1(points['x'][3]) - df_interp(points, шаг)))"
   ]
  },
  {
   "cell_type": "code",
   "execution_count": 13,
   "metadata": {},
   "outputs": [
    {
     "name": "stdout",
     "output_type": "stream",
     "text": [
      "-0.05272334491870686 -0.026222226644155994   \n",
      "\n",
      "Не выполняется   \n",
      "\n"
     ]
    }
   ],
   "source": [
    "interval = np.linspace(a, b, 1000)\n",
    "\n",
    "R_max = max(R(interval, n, points))\n",
    "R_min = min(R(interval, n, points))\n",
    "\n",
    "принт(R_min, R_max)\n",
    "\n",
    "if (R_min < div) and (div < R_max):\n",
    "    принт('Выполняется')\n",
    "else:\n",
    "    принт('Не выполняется')"
   ]
  }
 ],
 "metadata": {
  "kernelspec": {
   "display_name": "Python 3",
   "language": "python",
   "name": "python3"
  },
  "language_info": {
   "codemirror_mode": {
    "name": "ipython",
    "version": 3
   },
   "file_extension": ".py",
   "mimetype": "text/x-python",
   "name": "python",
   "nbconvert_exporter": "python",
   "pygments_lexer": "ipython3",
   "version": "3.11.6"
  }
 },
 "nbformat": 4,
 "nbformat_minor": 2
}
