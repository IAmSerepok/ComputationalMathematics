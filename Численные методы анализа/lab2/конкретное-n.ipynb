{
 "cells": [
  {
   "cell_type": "code",
   "execution_count": 162,
   "metadata": {},
   "outputs": [],
   "source": [
    "import numpy as np\n",
    "import pandas as pd\n",
    "from scipy.special import factorial"
   ]
  },
  {
   "cell_type": "code",
   "execution_count": 163,
   "metadata": {},
   "outputs": [],
   "source": [
    "def принт(*значения: object,\n",
    "    раз: str | None = \" \",\n",
    "    кон: str | None = \"\\n\"):\n",
    "\n",
    "    print(*значения, раз, кон)"
   ]
  },
  {
   "cell_type": "code",
   "execution_count": 164,
   "metadata": {},
   "outputs": [],
   "source": [
    "# Исходная функция\n",
    "def f(x):\n",
    "    return (x - 1) ** 2 - np.exp(x) / 2"
   ]
  },
  {
   "cell_type": "code",
   "execution_count": 165,
   "metadata": {},
   "outputs": [],
   "source": [
    "# Производная функции\n",
    "def df(x, n):\n",
    "    return - np.exp(x) / 2"
   ]
  },
  {
   "cell_type": "code",
   "execution_count": 166,
   "metadata": {},
   "outputs": [],
   "source": [
    "def omega(x, points, n):\n",
    "    prod = 1\n",
    "    \n",
    "    for _1 in range(n - 1):\n",
    "        prod *= (x - points['x'][_1])\n",
    "\n",
    "    return prod"
   ]
  },
  {
   "cell_type": "code",
   "execution_count": 167,
   "metadata": {},
   "outputs": [],
   "source": [
    "def R(x, n, points):\n",
    "    return (df(x, n + 1)) * (omega(x, points, n + 1)) / factorial(n + 1)"
   ]
  },
  {
   "cell_type": "code",
   "execution_count": 168,
   "metadata": {},
   "outputs": [],
   "source": [
    "def вычисление_конечных_разностей(список_конечных_разностей, iter, n):\n",
    "    if iter == n:\n",
    "        return\n",
    "    \n",
    "    for _1 in range(len(список_конечных_разностей[iter])):\n",
    "        список_конечных_разностей[iter][_1] = список_конечных_разностей[iter - 1][_1 + 1] - список_конечных_разностей[iter - 1][_1]\n",
    "\n",
    "    вычисление_конечных_разностей(список_конечных_разностей, iter + 1, n)"
   ]
  },
  {
   "cell_type": "code",
   "execution_count": 169,
   "metadata": {},
   "outputs": [],
   "source": [
    "def определяем_t(x, x0, h):\n",
    "    return (x - x0) / h"
   ]
  },
  {
   "cell_type": "code",
   "execution_count": 170,
   "metadata": {},
   "outputs": [],
   "source": [
    "def НьютонВперед(t, список_конечных_разностей, n):\n",
    "    res = список_конечных_разностей[0][0]\n",
    "    tmp = t\n",
    "    for _1 in range(1, n):\n",
    "        res += (((tmp) / (factorial(_1))) * (список_конечных_разностей[_1][0]))\n",
    "        tmp *= (t - _1)\n",
    "\n",
    "    return res"
   ]
  },
  {
   "cell_type": "code",
   "execution_count": 171,
   "metadata": {},
   "outputs": [],
   "source": [
    "def НьютонНазад(t, список_конечных_разностей, n):\n",
    "    res = список_конечных_разностей[0][-1]\n",
    "    tmp = t\n",
    "    for _1 in range(1, n):\n",
    "        res += (((tmp) / (factorial(_1))) * (список_конечных_разностей[_1][-1]))\n",
    "        tmp *= (t + _1)\n",
    "\n",
    "    return res"
   ]
  },
  {
   "cell_type": "code",
   "execution_count": 172,
   "metadata": {},
   "outputs": [],
   "source": [
    "def ГаусПервый(t, список_конечных_разностей, n):\n",
    "    res = список_конечных_разностей[0][n // 2]\n",
    "    tmp = t\n",
    "    for _1 in range(1, n):\n",
    "        res += (((tmp) / (factorial(_1))) * (список_конечных_разностей[_1][(n - _1) // 2]))\n",
    "        if _1 % 2 == 0:\n",
    "            tmp *= t + _1\n",
    "        else:\n",
    "            tmp *= t - _1\n",
    "\n",
    "    return res"
   ]
  },
  {
   "cell_type": "code",
   "execution_count": 173,
   "metadata": {},
   "outputs": [],
   "source": [
    "# Число узловых точек\n",
    "n = 10"
   ]
  },
  {
   "cell_type": "code",
   "execution_count": 174,
   "metadata": {},
   "outputs": [],
   "source": [
    "# Границы отрезка\n",
    "a, b = [0.1, 0.6]"
   ]
  },
  {
   "cell_type": "code",
   "execution_count": 175,
   "metadata": {},
   "outputs": [],
   "source": [
    "звёздочки = [0.13, 0.12, 0.57, 0.33]"
   ]
  },
  {
   "cell_type": "code",
   "execution_count": 176,
   "metadata": {},
   "outputs": [],
   "source": [
    "# Создание df с узловыми точками\n",
    "tmp = np.linspace(a, b, n)\n",
    "points = pd.DataFrame({'x': tmp, 'y': f(tmp)})"
   ]
  },
  {
   "cell_type": "code",
   "execution_count": 177,
   "metadata": {},
   "outputs": [
    {
     "name": "stdout",
     "output_type": "stream",
     "text": [
      "Шаг равен:  0.05\n"
     ]
    }
   ],
   "source": [
    "шаг = (b - a) / n\n",
    "print('Шаг равен: ', шаг)"
   ]
  },
  {
   "cell_type": "code",
   "execution_count": 178,
   "metadata": {},
   "outputs": [],
   "source": [
    "список_конечных_разностей = [[0 for _1 in range(n - _2)] for _2  in range(n)]"
   ]
  },
  {
   "cell_type": "code",
   "execution_count": 179,
   "metadata": {},
   "outputs": [],
   "source": [
    "for _1 in range(n):\n",
    "    список_конечных_разностей[0][_1] = points['y'][_1]\n",
    "    \n",
    "вычисление_конечных_разностей(список_конечных_разностей, 1, n)"
   ]
  },
  {
   "cell_type": "code",
   "execution_count": 180,
   "metadata": {},
   "outputs": [
    {
     "name": "stdout",
     "output_type": "stream",
     "text": [
      "[0.2574145409621762, 0.12893299965313165, 0.0048208914281014925, -0.11502480825469819, -0.23071300949677886, -0.3423588441881324, -0.45008402144397625, -0.5540172033467963, -0.6542944021536883, -0.7510594001952544]\n",
      "[-0.12848154130904454, -0.12411210822503016, -0.11984569968279968, -0.11568820124208068, -0.11164583469135353, -0.10772517725584385, -0.10393318190282003, -0.10027719880689201, -0.09676499804156613]\n",
      "[0.004369433084014385, 0.004266408542230482, 0.0041574984407189985, 0.00404236655072715, 0.003920657435509678, 0.003791995353023825, 0.003655983095928017, 0.003512200765325879]\n",
      "[-0.00010302454178390263, -0.0001089101015114835, -0.00011513188999184854, -0.00012170911521747207, -0.0001286620824858531, -0.00013601225709580778, -0.00014378233060213796]\n",
      "[-5.885559727580869e-06, -6.221788480365031e-06, -6.57722522562354e-06, -6.952967268381016e-06, -7.350174609954685e-06, -7.770073506330188e-06]\n",
      "[-3.362287527841623e-07, -3.554367452585083e-07, -3.7574204275747647e-07, -3.9720734157366877e-07, -4.198988963755035e-07]\n",
      "[-1.9207992474346014e-08, -2.0305297498968145e-08, -2.1465298816192302e-08, -2.2691554801834712e-08]\n",
      "[-1.0973050246221305e-09, -1.1600013172241574e-09, -1.2262559856424105e-09]\n",
      "[-6.269629260202692e-11, -6.6254668418253e-11]\n",
      "[-3.5583758162260892e-12]\n"
     ]
    }
   ],
   "source": [
    "print(*список_конечных_разностей, sep='\\n')"
   ]
  },
  {
   "cell_type": "code",
   "execution_count": 181,
   "metadata": {},
   "outputs": [
    {
     "name": "stdout",
     "output_type": "stream",
     "text": [
      "Значение t =  0.3999999999999998   \n",
      "\n",
      "Значение интерполирования: 0.20549123408818712   \n",
      "\n",
      "Значение функции 0.2106515742103121   \n",
      "\n",
      "-0.00516034012212499   \n",
      "\n"
     ]
    }
   ],
   "source": [
    "t = определяем_t(звёздочки[1], points['x'][0], шаг)\n",
    "принт(\"Значение t = \", t)\n",
    "принт(\"Значение интерполирования:\", НьютонВперед(t, список_конечных_разностей, n))\n",
    "принт(\"Значение функции\", f(звёздочки[1]))\n",
    "\n",
    "принт(НьютонВперед(t, список_конечных_разностей, n) - f(звёздочки[1]))"
   ]
  },
  {
   "cell_type": "code",
   "execution_count": 182,
   "metadata": {},
   "outputs": [
    {
     "name": "stdout",
     "output_type": "stream",
     "text": [
      "Значение t =  -0.6000000000000005   \n",
      "\n",
      "Значение интерполирования: -0.6934135425865838   \n",
      "\n",
      "Значение функции -0.6992335257168675   \n",
      "\n",
      "0.005819983130283646   \n",
      "\n"
     ]
    }
   ],
   "source": [
    "t = определяем_t(звёздочки[2], points['x'][len(points['x']) - 1], шаг)\n",
    "принт(\"Значение t = \", t)\n",
    "принт(\"Значение интерполирования:\", НьютонНазад(t, список_конечных_разностей, n-1))\n",
    "принт(\"Значение функции\", f(звёздочки[2]))\n",
    "\n",
    "принт(НьютонНазад(t, список_конечных_разностей, n-1) - f(звёздочки[2]))"
   ]
  },
  {
   "cell_type": "code",
   "execution_count": 183,
   "metadata": {},
   "outputs": [
    {
     "name": "stdout",
     "output_type": "stream",
     "text": [
      "Значение t =  0.15555555555555656   \n",
      "\n",
      "Значение интерполирования: -0.2483401250561319   \n",
      "\n",
      "Значение функции -0.24658406423189022   \n",
      "\n",
      "-0.0017560608242416786   \n",
      "\n"
     ]
    }
   ],
   "source": [
    "t = определяем_t(звёздочки[3], points['x'][len(points['x']) // 2 - 1], шаг)\n",
    "принт(\"Значение t = \", t)\n",
    "принт(\"Значение интерполирования:\", ГаусПервый(t, список_конечных_разностей, n - 1))\n",
    "принт(\"Значение функции\", f(звёздочки[3]))\n",
    "\n",
    "принт(ГаусПервый(t, список_конечных_разностей, n - 1) - f(звёздочки[3]))"
   ]
  },
  {
   "cell_type": "code",
   "execution_count": 184,
   "metadata": {},
   "outputs": [
    {
     "name": "stdout",
     "output_type": "stream",
     "text": [
      "-3.885748108393167e-17 2.698499299188082e-16\n"
     ]
    }
   ],
   "source": [
    "interval = np.linspace(a, b, 1000)\n",
    "\n",
    "R_max = max(R(interval, n, points))\n",
    "R_min = min(R(interval, n, points))\n",
    "\n",
    "принт(R_min, R_max)"
   ]
  }
 ],
 "metadata": {
  "kernelspec": {
   "display_name": "Python 3",
   "language": "python",
   "name": "python3"
  },
  "language_info": {
   "codemirror_mode": {
    "name": "ipython",
    "version": 3
   },
   "file_extension": ".py",
   "mimetype": "text/x-python",
   "name": "python",
   "nbconvert_exporter": "python",
   "pygments_lexer": "ipython3",
   "version": "3.11.6"
  }
 },
 "nbformat": 4,
 "nbformat_minor": 2
}
