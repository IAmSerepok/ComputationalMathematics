{
 "cells": [
  {
   "cell_type": "code",
   "execution_count": 23,
   "metadata": {},
   "outputs": [],
   "source": [
    "import numpy as np\n",
    "import pandas as pd\n",
    "import matplotlib.pyplot as plt"
   ]
  },
  {
   "cell_type": "code",
   "execution_count": 24,
   "metadata": {},
   "outputs": [],
   "source": [
    "def принт(*значения: object,\n",
    "    раз: str | None = \" \",\n",
    "    кон: str | None = \"\\n\"):\n",
    "\n",
    "    print(*значения, раз, кон)"
   ]
  },
  {
   "cell_type": "code",
   "execution_count": 25,
   "metadata": {},
   "outputs": [],
   "source": [
    "# Исходная функция\n",
    "def f(x):\n",
    "    return (x - 1) ** 2 - np.exp(x) / 2"
   ]
  },
  {
   "cell_type": "code",
   "execution_count": 26,
   "metadata": {},
   "outputs": [],
   "source": [
    "# Производная функции порядка n\n",
    "def df(x, n):\n",
    "    return - np.exp(x) / 2\n",
    "\n",
    "# Первая производная функции\n",
    "def df1(x):\n",
    "    return 2 * (x - 1) - (np.exp(x) / 2)\n",
    "\n",
    "# Вторая производная функции\n",
    "def df2(x):\n",
    "    return 2 - (np.exp(x) / 2)"
   ]
  },
  {
   "cell_type": "code",
   "execution_count": 27,
   "metadata": {},
   "outputs": [],
   "source": [
    "# Границы отрезка\n",
    "a, b = [0.1, 0.6]"
   ]
  },
  {
   "cell_type": "code",
   "execution_count": 28,
   "metadata": {},
   "outputs": [],
   "source": [
    "n_start, n_stop = 3, 100"
   ]
  },
  {
   "cell_type": "code",
   "execution_count": 29,
   "metadata": {},
   "outputs": [],
   "source": [
    "таблица = {'n': [], 'Δf': [], '∂f': []}"
   ]
  },
  {
   "cell_type": "code",
   "execution_count": 30,
   "metadata": {},
   "outputs": [],
   "source": [
    "for n in range(n_start, n_stop + 1):\n",
    "\n",
    "    # Создание df с узловыми точками\n",
    "    tmp = np.linspace(a, b, n + 1)\n",
    "    points = pd.DataFrame({'x': tmp, 'y': f(tmp)})\n",
    "\n",
    "    A, B, C = [0 for _1 in range(n + 1)], [0 for _1 in range(n + 1)], [0 for _1 in range(n + 1)]\n",
    "    F = [0 for _1 in range(n + 1)]\n",
    "\n",
    "    # Заполняем коэффициенты системы в соответствии с методом наклонов\n",
    "\n",
    "    for _1 in range(1, n):\n",
    "        h0 = points['x'][_1] - points['x'][_1 - 1]\n",
    "        h1 = points['x'][_1 + 1] - points['x'][_1]\n",
    "\n",
    "        A[_1] = µ = h1 / (h1 + h0)\n",
    "        B[_1] = 2\n",
    "        C[_1] = λ = h0 / (h1 + h0)\n",
    "\n",
    "        F[_1] = 3 * (λ * (points['y'][_1 + 1] - points['y'][_1]) / h1 + \n",
    "                     µ * (points['y'][_1] - points['y'][_1 - 1]) / h0)\n",
    "        \n",
    "    # Добавляем первое краевое условие (равенство на концак первых производных)\n",
    "        \n",
    "    B[0] = B[n] = 1\n",
    "    \n",
    "    F[0] = df1(points['x'][0])\n",
    "    F[n] = df1(points['x'][n])\n",
    "\n",
    "    # Метод прогонки\n",
    "    # Заводим массивы для прогоночных коэффициентов и искомых значений\n",
    "    m = [0 for _1 in range(n + 1)]\n",
    "    alpha, beta = [0 for _1 in range(n + 1)], [0 for _1 in range(n + 1)]\n",
    "\n",
    "    # Получаем первые коэффициенты из первого уравнения\n",
    "    alpha[0] = - C[0] / B[0]\n",
    "    beta[0] = F[0] / B[0]\n",
    "\n",
    "    # Прямой ход прогонки\n",
    "    for _1 in range(1, n + 1):\n",
    "        alpha[_1] = - C[_1] / (B[_1] + A[_1] * alpha[_1 - 1])\n",
    "        beta[_1] = (F[_1] - A[_1] * beta[_1 - 1]) / (B[_1] + A[_1] * alpha[_1 - 1])\n",
    "    \n",
    "    # Вычисляем m_n\n",
    "    m[n] = (F[n] - A[n] * beta[n]) / (A[n] * alpha[n] + B[n])\n",
    "\n",
    "    # Обратный ход прогонки\n",
    "    for _1 in range(n - 1, -1, -1):\n",
    "        m[_1] = alpha[_1 - 1] * m[_1 + 1] + beta[_1 + 1]\n",
    "\n",
    "    # Массив для коэффициентов a и b для дальнейшего построения сплайнов\n",
    "    ai, bi = [0 for _1 in range(n)], [0 for _1 in range(n)]\n",
    "\n",
    "    # Вычисления коэффициантов интерполяционных кубических полиномов\n",
    "    for _1 in range(0, n):\n",
    "        h1 = points['x'][_1 + 1] - points['x'][_1]\n",
    "\n",
    "        ai[_1] = (6 / h1) * ((points['y'][_1 + 1] - points['y'][_1]) / h1 - (m[_1 + 1] + 2 * m[_1]) / 3)\n",
    "        bi[_1] = (12 / h1 ** 2) * ((m[_1 + 1] + m[_1]) / 2 - (points['y'][_1 + 1] - points['y'][_1]) / h1)\n",
    "\n",
    "    # Заполнение таблицы\n",
    "    таблица['n'].insert(n - n_start, n)\n",
    "\n",
    "    tmp = []\n",
    "    for _1 in range(n):\n",
    "        X = np.linspace(points['x'][_1], points['x'][_1 + 1], 1000)\n",
    "        Y = points['y'][_1] + m[_1] * (X - points['x'][_1]) + ai[_1] * (X - points['x'][_1]) ** 2 / 2 + bi[_1] * (X - points['x'][_1]) ** 3 / 6 - f(X)\n",
    "        tmp = [*tmp, *Y]\n",
    "    tmp = max(np.abs(tmp))\n",
    "    таблица['Δf'].insert(n - n_start, tmp)\n",
    "\n",
    "    таблица['∂f'].insert(n - n_start, tmp / max(np.abs(f(np.linspace(a, b, 1000)))))\n",
    "\n",
    "таблица = pd.DataFrame(таблица)"
   ]
  },
  {
   "cell_type": "code",
   "execution_count": 31,
   "metadata": {},
   "outputs": [
    {
     "data": {
      "text/html": [
       "<div>\n",
       "<style scoped>\n",
       "    .dataframe tbody tr th:only-of-type {\n",
       "        vertical-align: middle;\n",
       "    }\n",
       "\n",
       "    .dataframe tbody tr th {\n",
       "        vertical-align: top;\n",
       "    }\n",
       "\n",
       "    .dataframe thead th {\n",
       "        text-align: right;\n",
       "    }\n",
       "</style>\n",
       "<table border=\"1\" class=\"dataframe\">\n",
       "  <thead>\n",
       "    <tr style=\"text-align: right;\">\n",
       "      <th></th>\n",
       "      <th>n</th>\n",
       "      <th>Δf</th>\n",
       "      <th>∂f</th>\n",
       "    </tr>\n",
       "  </thead>\n",
       "  <tbody>\n",
       "    <tr>\n",
       "      <th>0</th>\n",
       "      <td>3</td>\n",
       "      <td>0.018770</td>\n",
       "      <td>0.024992</td>\n",
       "    </tr>\n",
       "    <tr>\n",
       "      <th>1</th>\n",
       "      <td>4</td>\n",
       "      <td>0.011097</td>\n",
       "      <td>0.014776</td>\n",
       "    </tr>\n",
       "    <tr>\n",
       "      <th>2</th>\n",
       "      <td>5</td>\n",
       "      <td>0.008489</td>\n",
       "      <td>0.011303</td>\n",
       "    </tr>\n",
       "    <tr>\n",
       "      <th>3</th>\n",
       "      <td>6</td>\n",
       "      <td>0.006964</td>\n",
       "      <td>0.009273</td>\n",
       "    </tr>\n",
       "    <tr>\n",
       "      <th>4</th>\n",
       "      <td>7</td>\n",
       "      <td>0.005908</td>\n",
       "      <td>0.007866</td>\n",
       "    </tr>\n",
       "    <tr>\n",
       "      <th>...</th>\n",
       "      <td>...</td>\n",
       "      <td>...</td>\n",
       "      <td>...</td>\n",
       "    </tr>\n",
       "    <tr>\n",
       "      <th>93</th>\n",
       "      <td>96</td>\n",
       "      <td>0.000461</td>\n",
       "      <td>0.000614</td>\n",
       "    </tr>\n",
       "    <tr>\n",
       "      <th>94</th>\n",
       "      <td>97</td>\n",
       "      <td>0.000456</td>\n",
       "      <td>0.000608</td>\n",
       "    </tr>\n",
       "    <tr>\n",
       "      <th>95</th>\n",
       "      <td>98</td>\n",
       "      <td>0.000452</td>\n",
       "      <td>0.000602</td>\n",
       "    </tr>\n",
       "    <tr>\n",
       "      <th>96</th>\n",
       "      <td>99</td>\n",
       "      <td>0.000447</td>\n",
       "      <td>0.000596</td>\n",
       "    </tr>\n",
       "    <tr>\n",
       "      <th>97</th>\n",
       "      <td>100</td>\n",
       "      <td>0.000443</td>\n",
       "      <td>0.000590</td>\n",
       "    </tr>\n",
       "  </tbody>\n",
       "</table>\n",
       "<p>98 rows × 3 columns</p>\n",
       "</div>"
      ],
      "text/plain": [
       "      n        Δf        ∂f\n",
       "0     3  0.018770  0.024992\n",
       "1     4  0.011097  0.014776\n",
       "2     5  0.008489  0.011303\n",
       "3     6  0.006964  0.009273\n",
       "4     7  0.005908  0.007866\n",
       "..  ...       ...       ...\n",
       "93   96  0.000461  0.000614\n",
       "94   97  0.000456  0.000608\n",
       "95   98  0.000452  0.000602\n",
       "96   99  0.000447  0.000596\n",
       "97  100  0.000443  0.000590\n",
       "\n",
       "[98 rows x 3 columns]"
      ]
     },
     "execution_count": 31,
     "metadata": {},
     "output_type": "execute_result"
    }
   ],
   "source": [
    "таблица"
   ]
  },
  {
   "cell_type": "code",
   "execution_count": 32,
   "metadata": {},
   "outputs": [
    {
     "data": {
      "image/png": "[encoded data removed]",
      "text/plain": [
       "<Figure size 500x400 with 1 Axes>"
      ]
     },
     "metadata": {},
     "output_type": "display_data"
    }
   ],
   "source": [
    "# Визуализация зависимости ошибки от n\n",
    "plt.figure(figsize=(5, 4))\n",
    "plt.plot(таблица['n'], таблица['Δf'])\n",
    "plt.savefig('1.jpg', dpi=300)\n",
    "plt.show()"
   ]
  },
  {
   "cell_type": "code",
   "execution_count": 33,
   "metadata": {},
   "outputs": [
    {
     "data": {
      "image/png": "[encoded data removed]",
      "text/plain": [
       "<Figure size 1000x400 with 2 Axes>"
      ]
     },
     "metadata": {},
     "output_type": "display_data"
    }
   ],
   "source": [
    "# Визуализация для n=100\n",
    "plt.figure(figsize=(10, 4))\n",
    "\n",
    "plt.subplot(1, 2, 1)\n",
    "for _1 in range(n):\n",
    "    X = np.linspace(points['x'][_1], points['x'][_1 + 1], 1000)\n",
    "    Y = points['y'][_1] + m[_1] * (X - points['x'][_1]) + ai[_1] * (X - points['x'][_1]) ** 2 / 2 + bi[_1] * (X - points['x'][_1]) ** 3 / 6\n",
    "    plt.plot(X, Y)\n",
    "plt.title('Интерполяция сплайнами')\n",
    "\n",
    "plt.subplot(1, 2, 2)\n",
    "tmp = np.linspace(a, b, 1000)\n",
    "plt.plot(tmp, f(tmp), 'w')\n",
    "plt.title('Исходная функция')\n",
    "\n",
    "plt.show()"
   ]
  }
 ],
 "metadata": {
  "kernelspec": {
   "display_name": "Python 3",
   "language": "python",
   "name": "python3"
  },
  "language_info": {
   "codemirror_mode": {
    "name": "ipython",
    "version": 3
   },
   "file_extension": ".py",
   "mimetype": "text/x-python",
   "name": "python",
   "nbconvert_exporter": "python",
   "pygments_lexer": "ipython3",
   "version": "3.11.6"
  }
 },
 "nbformat": 4,
 "nbformat_minor": 2
}
