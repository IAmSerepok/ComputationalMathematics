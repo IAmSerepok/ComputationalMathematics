{
 "cells": [
  {
   "cell_type": "markdown",
   "metadata": {},
   "source": [
    "Громыко Артём Артурович Б9122-02.03.01сцт"
   ]
  },
  {
   "cell_type": "code",
   "execution_count": 10,
   "metadata": {},
   "outputs": [],
   "source": [
    "import numpy as np"
   ]
  },
  {
   "cell_type": "code",
   "execution_count": 11,
   "metadata": {},
   "outputs": [],
   "source": [
    "A_matrixes = [  # Тестовые матрицы\n",
    "    np.array([\n",
    "        [1, 2, 3], \n",
    "        [4, 6, 7], \n",
    "        [8, 9, 0]\n",
    "    ]), \n",
    "    np.array([\n",
    "        [6.03, 13, -17], \n",
    "        [13, 29.03, -38], \n",
    "        [-17, -38, 50.03]\n",
    "    ])\n",
    "]"
   ]
  },
  {
   "cell_type": "code",
   "execution_count": 12,
   "metadata": {},
   "outputs": [],
   "source": [
    "b_vectors = [  # Тестовые вектора\n",
    "    np.array([6, 12, 24]), \n",
    "    np.array([2.0909, 4.1509, -5.1191])\n",
    "]"
   ]
  },
  {
   "cell_type": "code",
   "execution_count": 13,
   "metadata": {},
   "outputs": [],
   "source": [
    "x_vectors = [  # Точные решения для тестовых данных\n",
    "    np.array([-11.538, 12.923, -2.679]), \n",
    "    np.array([1.03, 1.03, 1.03])\n",
    "]"
   ]
  },
  {
   "cell_type": "code",
   "execution_count": null,
   "metadata": {},
   "outputs": [],
   "source": [
    "def decompose_QR(A):\n",
    "    \"\"\"\n",
    "    Функция, производящая QR разложение\n",
    "    \"\"\"\n",
    "\n",
    "    w, h = A.shape\n",
    "    if w != h:\n",
    "        raise ValueError(\"Матрица не квадратная\")\n",
    "    n = w\n",
    "\n",
    "    A = np.array(A, dtype=float)\n",
    "\n",
    "    R = A.copy()\n",
    "    Q = np.eye(n)\n",
    "\n",
    "    for k in range(n - 1):\n",
    "\n",
    "        x = R[k:, k]\n",
    "        y = np.zeros_like(x)\n",
    "        y[0] = np.linalg.norm(x)\n",
    "\n",
    "        p = x - y\n",
    "\n",
    "        P = np.eye(n)\n",
    "        P[k:, k:] -= 2 * (p.reshape(p.shape[0], 1) @ p.reshape(1, p.shape[0])) / sum(p * p)\n",
    "\n",
    "        R = P @ R\n",
    "        Q = Q @ P.T\n",
    "\n",
    "    return Q, R"
   ]
  },
  {
   "cell_type": "code",
   "execution_count": 15,
   "metadata": {},
   "outputs": [],
   "source": [
    "def solve(A, b, type):\n",
    "    \"\"\"\n",
    "    Функция, решающая систему с треугольной матрицей\n",
    "    \"\"\"\n",
    "\n",
    "    w, h = A.shape\n",
    "    if w != h:\n",
    "        raise ValueError(\"Матрица не квадратная\")\n",
    "    n = w\n",
    "\n",
    "    X = [0 for _ in range(n)]\n",
    "\n",
    "    if type == 'up':  # Верхняя треугольная \n",
    "        for j in range(n - 1, -1, -1):\n",
    "            x = b[j]\n",
    "\n",
    "            for i in range(n - 1, j, -1):\n",
    "                x -= A[j, i] * X[i]\n",
    "\n",
    "            x /= A[j, j]\n",
    "\n",
    "            X[j] = x\n",
    "\n",
    "    elif type == 'down':  # Нижняя треугольная\n",
    "        for j in range(n):\n",
    "            x = b[j]\n",
    "\n",
    "            for i in range(j):\n",
    "                x -= A[j, i] * X[i]\n",
    "\n",
    "            x /= A[j, j]\n",
    "\n",
    "            X[j] = x\n",
    "\n",
    "    else:\n",
    "        raise ValueError(\"type должен быть задан как \\'up\\' или \\'down\\'\")\n",
    "    \n",
    "    return np.array(X)"
   ]
  },
  {
   "cell_type": "code",
   "execution_count": 16,
   "metadata": {},
   "outputs": [],
   "source": [
    "def test(A, b, exact_x):\n",
    "    Q, R = decompose_QR(A)\n",
    "    \n",
    "    print(f'{Q=}')\n",
    "    print(f'{R=}')\n",
    "    print('\\n')\n",
    "\n",
    "    print(f'{A=}')\n",
    "    print(f'QR={Q @ R}')\n",
    "    print('\\n')\n",
    "\n",
    "    x = solve(R, Q.T @ b, 'up')\n",
    "\n",
    "    print(f'{x=}')\n",
    "    print(f'Точный x={exact_x}')"
   ]
  },
  {
   "cell_type": "code",
   "execution_count": 17,
   "metadata": {},
   "outputs": [
    {
     "name": "stdout",
     "output_type": "stream",
     "text": [
      "\n",
      "-=-=-=-=-=-=-=-=-=-=-=-=-=-=-=-=-=-=-=-=   Тест №1   =-=-=-=-=-=-=-=-=-=-=-=-=-=-=-=-=-=-=-=-\n",
      "\n"
     ]
    },
    {
     "ename": "ValueError",
     "evalue": "operands could not be broadcast together with shapes (3,3) (2,2) (3,3) ",
     "output_type": "error",
     "traceback": [
      "\u001b[1;31m---------------------------------------------------------------------------\u001b[0m",
      "\u001b[1;31mValueError\u001b[0m                                Traceback (most recent call last)",
      "Cell \u001b[1;32mIn[17], line 4\u001b[0m\n\u001b[0;32m      2\u001b[0m \u001b[38;5;28;01mfor\u001b[39;00m index \u001b[38;5;129;01min\u001b[39;00m \u001b[38;5;28mrange\u001b[39m(\u001b[38;5;241m2\u001b[39m):  \n\u001b[0;32m      3\u001b[0m     \u001b[38;5;28mprint\u001b[39m(\u001b[38;5;124mf\u001b[39m\u001b[38;5;124m'\u001b[39m\u001b[38;5;130;01m\\n\u001b[39;00m\u001b[38;5;124m-=-=-=-=-=-=-=-=-=-=-=-=-=-=-=-=-=-=-=-=   Тест №\u001b[39m\u001b[38;5;132;01m{\u001b[39;00mindex\u001b[38;5;250m \u001b[39m\u001b[38;5;241m+\u001b[39m\u001b[38;5;250m \u001b[39m\u001b[38;5;241m1\u001b[39m\u001b[38;5;132;01m}\u001b[39;00m\u001b[38;5;124m   =-=-=-=-=-=-=-=-=-=-=-=-=-=-=-=-=-=-=-=-\u001b[39m\u001b[38;5;130;01m\\n\u001b[39;00m\u001b[38;5;124m'\u001b[39m)\n\u001b[1;32m----> 4\u001b[0m     \u001b[43mtest\u001b[49m\u001b[43m(\u001b[49m\u001b[43mA_matrixes\u001b[49m\u001b[43m[\u001b[49m\u001b[43mindex\u001b[49m\u001b[43m]\u001b[49m\u001b[43m,\u001b[49m\u001b[43m \u001b[49m\u001b[43mb_vectors\u001b[49m\u001b[43m[\u001b[49m\u001b[43mindex\u001b[49m\u001b[43m]\u001b[49m\u001b[43m,\u001b[49m\u001b[43m \u001b[49m\u001b[43mx_vectors\u001b[49m\u001b[43m[\u001b[49m\u001b[43mindex\u001b[49m\u001b[43m]\u001b[49m\u001b[43m)\u001b[49m\n",
      "Cell \u001b[1;32mIn[16], line 2\u001b[0m, in \u001b[0;36mtest\u001b[1;34m(A, b, exact_x)\u001b[0m\n\u001b[0;32m      1\u001b[0m \u001b[38;5;28;01mdef\u001b[39;00m \u001b[38;5;21mtest\u001b[39m(A, b, exact_x):\n\u001b[1;32m----> 2\u001b[0m     Q, R \u001b[38;5;241m=\u001b[39m \u001b[43mdecompose_QR\u001b[49m\u001b[43m(\u001b[49m\u001b[43mA\u001b[49m\u001b[43m)\u001b[49m\n\u001b[0;32m      4\u001b[0m     \u001b[38;5;28mprint\u001b[39m(\u001b[38;5;124mf\u001b[39m\u001b[38;5;124m'\u001b[39m\u001b[38;5;132;01m{\u001b[39;00mQ\u001b[38;5;132;01m=}\u001b[39;00m\u001b[38;5;124m'\u001b[39m)\n\u001b[0;32m      5\u001b[0m     \u001b[38;5;28mprint\u001b[39m(\u001b[38;5;124mf\u001b[39m\u001b[38;5;124m'\u001b[39m\u001b[38;5;132;01m{\u001b[39;00mR\u001b[38;5;132;01m=}\u001b[39;00m\u001b[38;5;124m'\u001b[39m)\n",
      "Cell \u001b[1;32mIn[14], line 25\u001b[0m, in \u001b[0;36mdecompose_QR\u001b[1;34m(A)\u001b[0m\n\u001b[0;32m     22\u001b[0m p \u001b[38;5;241m=\u001b[39m x \u001b[38;5;241m-\u001b[39m y\n\u001b[0;32m     24\u001b[0m P \u001b[38;5;241m=\u001b[39m np\u001b[38;5;241m.\u001b[39meye(n)\n\u001b[1;32m---> 25\u001b[0m \u001b[43mP\u001b[49m\u001b[43m \u001b[49m\u001b[38;5;241;43m-\u001b[39;49m\u001b[38;5;241;43m=\u001b[39;49m\u001b[43m \u001b[49m\u001b[38;5;241;43m2\u001b[39;49m\u001b[43m \u001b[49m\u001b[38;5;241;43m*\u001b[39;49m\u001b[43m \u001b[49m\u001b[43m(\u001b[49m\u001b[43mp\u001b[49m\u001b[38;5;241;43m.\u001b[39;49m\u001b[43mreshape\u001b[49m\u001b[43m(\u001b[49m\u001b[43mp\u001b[49m\u001b[38;5;241;43m.\u001b[39;49m\u001b[43mshape\u001b[49m\u001b[43m[\u001b[49m\u001b[38;5;241;43m0\u001b[39;49m\u001b[43m]\u001b[49m\u001b[43m,\u001b[49m\u001b[43m \u001b[49m\u001b[38;5;241;43m1\u001b[39;49m\u001b[43m)\u001b[49m\u001b[43m \u001b[49m\u001b[38;5;241;43m@\u001b[39;49m\u001b[43m \u001b[49m\u001b[43mp\u001b[49m\u001b[38;5;241;43m.\u001b[39;49m\u001b[43mreshape\u001b[49m\u001b[43m(\u001b[49m\u001b[38;5;241;43m1\u001b[39;49m\u001b[43m,\u001b[49m\u001b[43m \u001b[49m\u001b[43mp\u001b[49m\u001b[38;5;241;43m.\u001b[39;49m\u001b[43mshape\u001b[49m\u001b[43m[\u001b[49m\u001b[38;5;241;43m0\u001b[39;49m\u001b[43m]\u001b[49m\u001b[43m)\u001b[49m\u001b[43m)\u001b[49m\u001b[43m \u001b[49m\u001b[38;5;241;43m/\u001b[39;49m\u001b[43m \u001b[49m\u001b[38;5;28;43msum\u001b[39;49m\u001b[43m(\u001b[49m\u001b[43mp\u001b[49m\u001b[43m \u001b[49m\u001b[38;5;241;43m*\u001b[39;49m\u001b[43m \u001b[49m\u001b[43mp\u001b[49m\u001b[43m)\u001b[49m\n\u001b[0;32m     27\u001b[0m R \u001b[38;5;241m=\u001b[39m P \u001b[38;5;241m@\u001b[39m R\n\u001b[0;32m     28\u001b[0m Q \u001b[38;5;241m=\u001b[39m Q \u001b[38;5;241m@\u001b[39m P\u001b[38;5;241m.\u001b[39mT\n",
      "\u001b[1;31mValueError\u001b[0m: operands could not be broadcast together with shapes (3,3) (2,2) (3,3) "
     ]
    }
   ],
   "source": [
    "# Проверяем работоспособность алгоритма на тестовых данных\n",
    "for index in range(2):  \n",
    "    print(f'\\n-=-=-=-=-=-=-=-=-=-=-=-=-=-=-=-=-=-=-=-=   Тест №{index + 1}   =-=-=-=-=-=-=-=-=-=-=-=-=-=-=-=-=-=-=-=-\\n')\n",
    "    test(A_matrixes[index], b_vectors[index], x_vectors[index])"
   ]
  },
  {
   "cell_type": "code",
   "execution_count": null,
   "metadata": {},
   "outputs": [
    {
     "name": "stdout",
     "output_type": "stream",
     "text": [
      "Точное решение СЛАУ I - x=array([1., 1., 1.])\n",
      "\n"
     ]
    }
   ],
   "source": [
    "# Решаем данные СЛАУ методом LU разложения\n",
    "# СЛАУ I\n",
    "Q, R = decompose_QR(A=np.array([\n",
    "    [2, 0, 1], \n",
    "    [0, 1, -1], \n",
    "    [1, 1, 1]\n",
    "]))\n",
    "\n",
    "x = solve(R, Q.T @ np.array([\n",
    "    3, 0, 3\n",
    "]), 'up')\n",
    "\n",
    "print(f'Точное решение СЛАУ I - {x=}\\n')"
   ]
  }
 ],
 "metadata": {
  "kernelspec": {
   "display_name": "Python 3",
   "language": "python",
   "name": "python3"
  },
  "language_info": {
   "codemirror_mode": {
    "name": "ipython",
    "version": 3
   },
   "file_extension": ".py",
   "mimetype": "text/x-python",
   "name": "python",
   "nbconvert_exporter": "python",
   "pygments_lexer": "ipython3",
   "version": "3.12.7"
  }
 },
 "nbformat": 4,
 "nbformat_minor": 2
}
