{
 "cells": [
  {
   "cell_type": "markdown",
   "metadata": {},
   "source": [
    "Громыко Артём Артурович Б9122-02.03.01сцт"
   ]
  },
  {
   "cell_type": "code",
   "execution_count": 109,
   "metadata": {},
   "outputs": [],
   "source": [
    "import numpy as np"
   ]
  },
  {
   "cell_type": "code",
   "execution_count": 110,
   "metadata": {},
   "outputs": [],
   "source": [
    "A_matrixes = [  # Тестовые матрицы\n",
    "    np.array([\n",
    "        [81, -45, 45], \n",
    "        [-45, 50, -15], \n",
    "        [45, -15, 38]\n",
    "    ]), \n",
    "    np.array([\n",
    "        [6.25, -1, 0.5], \n",
    "        [-1, 5, 2.12], \n",
    "        [0.5, 2.21, 3.6]\n",
    "    ]), \n",
    "    np.array([\n",
    "        [1, 3, -2, 0, -2], \n",
    "        [3, 4, -5, 1, -3], \n",
    "        [-2, -5, 3, -2, 2], \n",
    "        [0, 1, -2, 5, 3], \n",
    "        [-2, -3, 2, 3, 4]\n",
    "    ]),  \n",
    "    np.array([\n",
    "        [1, 2, 4], \n",
    "        [2, 13, 23], \n",
    "        [4, 23, 77]\n",
    "    ])\n",
    "]"
   ]
  },
  {
   "cell_type": "code",
   "execution_count": 111,
   "metadata": {},
   "outputs": [],
   "source": [
    "b_vectors = [  # Тестовые вектора\n",
    "    np.array([531, -460, 193]), \n",
    "    np.array([7.5, -8.68, -0.24]), \n",
    "    np.array([0.5, 5.4, 5.0, 7.5, 3.3]), \n",
    "    np.array([10, 50, 150]), \n",
    "]"
   ]
  },
  {
   "cell_type": "code",
   "execution_count": 112,
   "metadata": {},
   "outputs": [],
   "source": [
    "x_vectors = [  # Точные решения для тестовых данных\n",
    "    np.array([6, -5, -4]), \n",
    "    np.array([0.8, -2, 1]), \n",
    "    np.array([-6.0978, -2.2016, -6.8011, -8.8996, 0.1998]), \n",
    "    np.array([2.22, 0.55, 1.67]), \n",
    "]"
   ]
  },
  {
   "cell_type": "code",
   "execution_count": 113,
   "metadata": {},
   "outputs": [],
   "source": [
    "def decompose_square_root(A):\n",
    "    \"\"\"\n",
    "    Функция, производящая разложение методом квадратного корня\n",
    "    \"\"\"\n",
    "\n",
    "    for val in np.linalg.eig(A)[0]:\n",
    "        if val <= 0:\n",
    "            print(\"Разложения не существует так как матрица не положительно определена\")\n",
    "            return None\n",
    "\n",
    "    w, h = A.shape\n",
    "    if w != h:\n",
    "        raise ValueError(\"Матрица не квадратная\")\n",
    "    n = w\n",
    "\n",
    "    W = np.zeros((n, n), float)\n",
    "\n",
    "    # Разложение для первой строки\n",
    "    W[0, 0] = np.sqrt(A[0, 0])\n",
    "    for j in range(1, n):\n",
    "        W[0, j] = A[0, j] / W[0, 0]\n",
    "\n",
    "    # Разложение для всех остальных строк и столбцов\n",
    "    for i in range(1, n):\n",
    "        # Заполнение диагональных элементов\n",
    "        W[i, i] = A[i, i]\n",
    "\n",
    "        for k in range(i):\n",
    "            W[i, i] -= W[k, i] ** 2\n",
    "        W[i, i] = np.sqrt(W[i, i])\n",
    "        \n",
    "        # Заполнение элементов выше главной диагонали\n",
    "        for j in range(i+1, n):\n",
    "            W[i, j] = A[i, j]\n",
    "            for k in range(i):\n",
    "                W[i, j] -= W[k, i] * W[k, j]\n",
    "\n",
    "            W[i, j] = W[i, j] / W[i, i]\n",
    "\n",
    "    return W"
   ]
  },
  {
   "cell_type": "code",
   "execution_count": 114,
   "metadata": {},
   "outputs": [],
   "source": [
    "def solve(A, b, type):\n",
    "    \"\"\"\n",
    "    Функция, решающая систему с треугольной матрицей\n",
    "    \"\"\"\n",
    "\n",
    "    w, h = A.shape\n",
    "    if w != h:\n",
    "        raise ValueError(\"Матрица не квадратная\")\n",
    "    n = w\n",
    "\n",
    "    X = [0 for _ in range(n)]\n",
    "\n",
    "    if type == 'up':  # Верхняя треугольная \n",
    "        for j in range(n - 1, -1, -1):\n",
    "            x = b[j]\n",
    "\n",
    "            for i in range(n - 1, j, -1):\n",
    "                x -= A[j, i] * X[i]\n",
    "\n",
    "            x /= A[j, j]\n",
    "\n",
    "            X[j] = x\n",
    "\n",
    "    elif type == 'down':  # Нижняя треугольная\n",
    "        for j in range(n):\n",
    "            x = b[j]\n",
    "\n",
    "            for i in range(j):\n",
    "                x -= A[j, i] * X[i]\n",
    "\n",
    "            x /= A[j, j]\n",
    "\n",
    "            X[j] = x\n",
    "\n",
    "    else:\n",
    "        raise ValueError(\"type должен быть задан как \\'up\\' или \\'down\\'\")\n",
    "    \n",
    "    return np.array(X)\n"
   ]
  },
  {
   "cell_type": "code",
   "execution_count": 115,
   "metadata": {},
   "outputs": [],
   "source": [
    "def test(A, b, exact_x):\n",
    "    W = decompose_square_root(A)\n",
    "    if W is None:\n",
    "        return None\n",
    "    \n",
    "    # print(f'{W=}')\n",
    "    # print('\\n')\n",
    "\n",
    "    print(f'{A=}')\n",
    "    print(f'W^T*W={W.T @ W}')\n",
    "    print('\\n')\n",
    "\n",
    "    y = solve(W.T, b, 'down')\n",
    "    x = solve(W, y, 'up')\n",
    "\n",
    "    # print(f'{b=}')\n",
    "    # print(f'{y=}')\n",
    "    print(f'{x=}')\n",
    "    print(f'Точный x={exact_x}')"
   ]
  },
  {
   "cell_type": "code",
   "execution_count": 116,
   "metadata": {},
   "outputs": [
    {
     "name": "stdout",
     "output_type": "stream",
     "text": [
      "\n",
      "-=-=-=-=-=-=-=-=-=-=-=-=-=-=-=-=-=-=-=-=   Тест №1   =-=-=-=-=-=-=-=-=-=-=-=-=-=-=-=-=-=-=-=-\n",
      "\n",
      "A=array([[ 81, -45,  45],\n",
      "       [-45,  50, -15],\n",
      "       [ 45, -15,  38]])\n",
      "W^T*W=[[ 81. -45.  45.]\n",
      " [-45.  50. -15.]\n",
      " [ 45. -15.  38.]]\n",
      "\n",
      "\n",
      "x=array([ 6., -5., -4.])\n",
      "Точный x=[ 6 -5 -4]\n",
      "\n",
      "-=-=-=-=-=-=-=-=-=-=-=-=-=-=-=-=-=-=-=-=   Тест №2   =-=-=-=-=-=-=-=-=-=-=-=-=-=-=-=-=-=-=-=-\n",
      "\n",
      "A=array([[ 6.25, -1.  ,  0.5 ],\n",
      "       [-1.  ,  5.  ,  2.12],\n",
      "       [ 0.5 ,  2.21,  3.6 ]])\n",
      "W^T*W=[[ 6.25 -1.    0.5 ]\n",
      " [-1.    5.    2.12]\n",
      " [ 0.5   2.12  3.6 ]]\n",
      "\n",
      "\n",
      "x=array([ 0.8, -2. ,  1. ])\n",
      "Точный x=[ 0.8 -2.   1. ]\n",
      "\n",
      "-=-=-=-=-=-=-=-=-=-=-=-=-=-=-=-=-=-=-=-=   Тест №3   =-=-=-=-=-=-=-=-=-=-=-=-=-=-=-=-=-=-=-=-\n",
      "\n",
      "Разложения не существует так как матрица не положительно определена\n",
      "\n",
      "-=-=-=-=-=-=-=-=-=-=-=-=-=-=-=-=-=-=-=-=   Тест №4   =-=-=-=-=-=-=-=-=-=-=-=-=-=-=-=-=-=-=-=-\n",
      "\n",
      "A=array([[ 1,  2,  4],\n",
      "       [ 2, 13, 23],\n",
      "       [ 4, 23, 77]])\n",
      "W^T*W=[[ 1.  2.  4.]\n",
      " [ 2. 13. 23.]\n",
      " [ 4. 23. 77.]]\n",
      "\n",
      "\n",
      "x=array([2.22222222, 0.55555556, 1.66666667])\n",
      "Точный x=[2.22 0.55 1.67]\n"
     ]
    }
   ],
   "source": [
    "# Проверяем работоспособность алгоритма на тестовых данных\n",
    "for index in range(4):  \n",
    "    print(f'\\n-=-=-=-=-=-=-=-=-=-=-=-=-=-=-=-=-=-=-=-=   Тест №{index + 1}   =-=-=-=-=-=-=-=-=-=-=-=-=-=-=-=-=-=-=-=-\\n')\n",
    "    test(A_matrixes[index], b_vectors[index], x_vectors[index])"
   ]
  },
  {
   "cell_type": "code",
   "execution_count": 117,
   "metadata": {},
   "outputs": [
    {
     "name": "stdout",
     "output_type": "stream",
     "text": [
      "Точное решение СЛАУ I - x=array([ 0.56206926, -0.44359823,  0.13461121])\n",
      "\n",
      "Точное решение СЛАУ II - x=array([ 1.45653917, -1.93309996,  3.46970779,  1.51312749])\n",
      "\n"
     ]
    }
   ],
   "source": [
    "# Решаем данные СЛАУ методом LU разложения\n",
    "# СЛАУ I\n",
    "W = decompose_square_root(A=np.array([\n",
    "    [5.8, 0.3, -0.2], \n",
    "    [0.3, 4.0, -0.7], \n",
    "    [-0.2, -0.7, 6.7]\n",
    "]))\n",
    "\n",
    "y = solve(W.T, np.array([3.1, -1.7, 1.1]), 'down')\n",
    "x = solve(W, y, 'up')\n",
    "\n",
    "print(f'Точное решение СЛАУ I - {x=}\\n')\n",
    "\n",
    "# СЛАУ II\n",
    "W = decompose_square_root(A=np.array([\n",
    "    [4.12, 0.42, 1.34, 0.88], \n",
    "    [0.42, 3.95, 1.87, 0.43], \n",
    "    [1.34, 1.87, 3.20, 0.31], \n",
    "    [0.88, 0.43, 0.31, 5.17]\n",
    "]))\n",
    "\n",
    "y = solve(W.T, np.array([11.17, 0.115, 9.909, 9.349]), 'down')\n",
    "x = solve(W, y, 'up')\n",
    "\n",
    "print(f'Точное решение СЛАУ II - {x=}\\n')"
   ]
  }
 ],
 "metadata": {
  "kernelspec": {
   "display_name": "Python 3",
   "language": "python",
   "name": "python3"
  },
  "language_info": {
   "codemirror_mode": {
    "name": "ipython",
    "version": 3
   },
   "file_extension": ".py",
   "mimetype": "text/x-python",
   "name": "python",
   "nbconvert_exporter": "python",
   "pygments_lexer": "ipython3",
   "version": "3.12.7"
  }
 },
 "nbformat": 4,
 "nbformat_minor": 2
}
